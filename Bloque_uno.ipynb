{
 "cells": [
  {
   "cell_type": "markdown",
   "id": "c5c0e679",
   "metadata": {},
   "source": [
    "# Códigos Examen de Algoritmos Bioinspirados \n",
    "# BLOQUE 1\n",
    "Chiara Bombardieri Balanzá - A01659462"
   ]
  },
  {
   "cell_type": "code",
   "execution_count": null,
   "id": "48d78d30",
   "metadata": {
    "vscode": {
     "languageId": "plaintext"
    }
   },
   "outputs": [],
   "source": []
  }
 ],
 "metadata": {
  "language_info": {
   "name": "python"
  }
 },
 "nbformat": 4,
 "nbformat_minor": 5
}
